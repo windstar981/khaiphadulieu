{
  "cells": [
    {
      "cell_type": "code",
      "source": [
        "import pandas as pd\n",
        "import matplotlib.pyplot as plt\n",
        "import numpy as np\n",
        "from numpy.lib import type_check\n",
        "import seaborn as sns\n",
        "from itertools import combinations\n",
        "  \n",
        "df = pd.read_csv(\"bread_basket.csv\", nrows=300)\n",
        "df.head(10)"
      ],
      "metadata": {
        "colab": {
          "base_uri": "https://localhost:8080/",
          "height": 363
        },
        "id": "vqO1n2dLJ2Li",
        "outputId": "fd7166e4-33a3-4b67-af36-96dff991d1d6"
      },
      "execution_count": null,
      "outputs": [
        {
          "output_type": "execute_result",
          "data": {
            "text/plain": [
              "   Transaction           Item         date_time period_day weekday_weekend\n",
              "0            1          Bread  30-10-2016 09:58    morning         weekend\n",
              "1            2   Scandinavian  30-10-2016 10:05    morning         weekend\n",
              "2            2   Scandinavian  30-10-2016 10:05    morning         weekend\n",
              "3            3  Hot chocolate  30-10-2016 10:07    morning         weekend\n",
              "4            3            Jam  30-10-2016 10:07    morning         weekend\n",
              "5            3        Cookies  30-10-2016 10:07    morning         weekend\n",
              "6            4         Muffin  30-10-2016 10:08    morning         weekend\n",
              "7            5         Coffee  30-10-2016 10:13    morning         weekend\n",
              "8            5         Pastry  30-10-2016 10:13    morning         weekend\n",
              "9            5          Bread  30-10-2016 10:13    morning         weekend"
            ],
            "text/html": [
              "\n",
              "  <div id=\"df-74b4d83b-1e3d-4aa0-b236-9ee821451ce7\">\n",
              "    <div class=\"colab-df-container\">\n",
              "      <div>\n",
              "<style scoped>\n",
              "    .dataframe tbody tr th:only-of-type {\n",
              "        vertical-align: middle;\n",
              "    }\n",
              "\n",
              "    .dataframe tbody tr th {\n",
              "        vertical-align: top;\n",
              "    }\n",
              "\n",
              "    .dataframe thead th {\n",
              "        text-align: right;\n",
              "    }\n",
              "</style>\n",
              "<table border=\"1\" class=\"dataframe\">\n",
              "  <thead>\n",
              "    <tr style=\"text-align: right;\">\n",
              "      <th></th>\n",
              "      <th>Transaction</th>\n",
              "      <th>Item</th>\n",
              "      <th>date_time</th>\n",
              "      <th>period_day</th>\n",
              "      <th>weekday_weekend</th>\n",
              "    </tr>\n",
              "  </thead>\n",
              "  <tbody>\n",
              "    <tr>\n",
              "      <th>0</th>\n",
              "      <td>1</td>\n",
              "      <td>Bread</td>\n",
              "      <td>30-10-2016 09:58</td>\n",
              "      <td>morning</td>\n",
              "      <td>weekend</td>\n",
              "    </tr>\n",
              "    <tr>\n",
              "      <th>1</th>\n",
              "      <td>2</td>\n",
              "      <td>Scandinavian</td>\n",
              "      <td>30-10-2016 10:05</td>\n",
              "      <td>morning</td>\n",
              "      <td>weekend</td>\n",
              "    </tr>\n",
              "    <tr>\n",
              "      <th>2</th>\n",
              "      <td>2</td>\n",
              "      <td>Scandinavian</td>\n",
              "      <td>30-10-2016 10:05</td>\n",
              "      <td>morning</td>\n",
              "      <td>weekend</td>\n",
              "    </tr>\n",
              "    <tr>\n",
              "      <th>3</th>\n",
              "      <td>3</td>\n",
              "      <td>Hot chocolate</td>\n",
              "      <td>30-10-2016 10:07</td>\n",
              "      <td>morning</td>\n",
              "      <td>weekend</td>\n",
              "    </tr>\n",
              "    <tr>\n",
              "      <th>4</th>\n",
              "      <td>3</td>\n",
              "      <td>Jam</td>\n",
              "      <td>30-10-2016 10:07</td>\n",
              "      <td>morning</td>\n",
              "      <td>weekend</td>\n",
              "    </tr>\n",
              "    <tr>\n",
              "      <th>5</th>\n",
              "      <td>3</td>\n",
              "      <td>Cookies</td>\n",
              "      <td>30-10-2016 10:07</td>\n",
              "      <td>morning</td>\n",
              "      <td>weekend</td>\n",
              "    </tr>\n",
              "    <tr>\n",
              "      <th>6</th>\n",
              "      <td>4</td>\n",
              "      <td>Muffin</td>\n",
              "      <td>30-10-2016 10:08</td>\n",
              "      <td>morning</td>\n",
              "      <td>weekend</td>\n",
              "    </tr>\n",
              "    <tr>\n",
              "      <th>7</th>\n",
              "      <td>5</td>\n",
              "      <td>Coffee</td>\n",
              "      <td>30-10-2016 10:13</td>\n",
              "      <td>morning</td>\n",
              "      <td>weekend</td>\n",
              "    </tr>\n",
              "    <tr>\n",
              "      <th>8</th>\n",
              "      <td>5</td>\n",
              "      <td>Pastry</td>\n",
              "      <td>30-10-2016 10:13</td>\n",
              "      <td>morning</td>\n",
              "      <td>weekend</td>\n",
              "    </tr>\n",
              "    <tr>\n",
              "      <th>9</th>\n",
              "      <td>5</td>\n",
              "      <td>Bread</td>\n",
              "      <td>30-10-2016 10:13</td>\n",
              "      <td>morning</td>\n",
              "      <td>weekend</td>\n",
              "    </tr>\n",
              "  </tbody>\n",
              "</table>\n",
              "</div>\n",
              "      <button class=\"colab-df-convert\" onclick=\"convertToInteractive('df-74b4d83b-1e3d-4aa0-b236-9ee821451ce7')\"\n",
              "              title=\"Convert this dataframe to an interactive table.\"\n",
              "              style=\"display:none;\">\n",
              "        \n",
              "  <svg xmlns=\"http://www.w3.org/2000/svg\" height=\"24px\"viewBox=\"0 0 24 24\"\n",
              "       width=\"24px\">\n",
              "    <path d=\"M0 0h24v24H0V0z\" fill=\"none\"/>\n",
              "    <path d=\"M18.56 5.44l.94 2.06.94-2.06 2.06-.94-2.06-.94-.94-2.06-.94 2.06-2.06.94zm-11 1L8.5 8.5l.94-2.06 2.06-.94-2.06-.94L8.5 2.5l-.94 2.06-2.06.94zm10 10l.94 2.06.94-2.06 2.06-.94-2.06-.94-.94-2.06-.94 2.06-2.06.94z\"/><path d=\"M17.41 7.96l-1.37-1.37c-.4-.4-.92-.59-1.43-.59-.52 0-1.04.2-1.43.59L10.3 9.45l-7.72 7.72c-.78.78-.78 2.05 0 2.83L4 21.41c.39.39.9.59 1.41.59.51 0 1.02-.2 1.41-.59l7.78-7.78 2.81-2.81c.8-.78.8-2.07 0-2.86zM5.41 20L4 18.59l7.72-7.72 1.47 1.35L5.41 20z\"/>\n",
              "  </svg>\n",
              "      </button>\n",
              "      \n",
              "  <style>\n",
              "    .colab-df-container {\n",
              "      display:flex;\n",
              "      flex-wrap:wrap;\n",
              "      gap: 12px;\n",
              "    }\n",
              "\n",
              "    .colab-df-convert {\n",
              "      background-color: #E8F0FE;\n",
              "      border: none;\n",
              "      border-radius: 50%;\n",
              "      cursor: pointer;\n",
              "      display: none;\n",
              "      fill: #1967D2;\n",
              "      height: 32px;\n",
              "      padding: 0 0 0 0;\n",
              "      width: 32px;\n",
              "    }\n",
              "\n",
              "    .colab-df-convert:hover {\n",
              "      background-color: #E2EBFA;\n",
              "      box-shadow: 0px 1px 2px rgba(60, 64, 67, 0.3), 0px 1px 3px 1px rgba(60, 64, 67, 0.15);\n",
              "      fill: #174EA6;\n",
              "    }\n",
              "\n",
              "    [theme=dark] .colab-df-convert {\n",
              "      background-color: #3B4455;\n",
              "      fill: #D2E3FC;\n",
              "    }\n",
              "\n",
              "    [theme=dark] .colab-df-convert:hover {\n",
              "      background-color: #434B5C;\n",
              "      box-shadow: 0px 1px 3px 1px rgba(0, 0, 0, 0.15);\n",
              "      filter: drop-shadow(0px 1px 2px rgba(0, 0, 0, 0.3));\n",
              "      fill: #FFFFFF;\n",
              "    }\n",
              "  </style>\n",
              "\n",
              "      <script>\n",
              "        const buttonEl =\n",
              "          document.querySelector('#df-74b4d83b-1e3d-4aa0-b236-9ee821451ce7 button.colab-df-convert');\n",
              "        buttonEl.style.display =\n",
              "          google.colab.kernel.accessAllowed ? 'block' : 'none';\n",
              "\n",
              "        async function convertToInteractive(key) {\n",
              "          const element = document.querySelector('#df-74b4d83b-1e3d-4aa0-b236-9ee821451ce7');\n",
              "          const dataTable =\n",
              "            await google.colab.kernel.invokeFunction('convertToInteractive',\n",
              "                                                     [key], {});\n",
              "          if (!dataTable) return;\n",
              "\n",
              "          const docLinkHtml = 'Like what you see? Visit the ' +\n",
              "            '<a target=\"_blank\" href=https://colab.research.google.com/notebooks/data_table.ipynb>data table notebook</a>'\n",
              "            + ' to learn more about interactive tables.';\n",
              "          element.innerHTML = '';\n",
              "          dataTable['output_type'] = 'display_data';\n",
              "          await google.colab.output.renderOutput(dataTable, element);\n",
              "          const docLink = document.createElement('div');\n",
              "          docLink.innerHTML = docLinkHtml;\n",
              "          element.appendChild(docLink);\n",
              "        }\n",
              "      </script>\n",
              "    </div>\n",
              "  </div>\n",
              "  "
            ]
          },
          "metadata": {},
          "execution_count": 1
        }
      ]
    },
    {
      "cell_type": "code",
      "source": [
        "dictTrans = {}\n",
        "for i in range(len(df['Transaction'])):\n",
        "  if df['Transaction'][i] not in dictTrans:\n",
        "    dictTrans[df['Transaction'][i]] = [df['Item'][i]]\n",
        "  else:\n",
        "    dictTrans[df['Transaction'][i]].extend([df['Item'][i]])\n",
        "print(dictTrans)"
      ],
      "metadata": {
        "colab": {
          "base_uri": "https://localhost:8080/"
        },
        "id": "lRm2G05-KUDd",
        "outputId": "38c6f663-63ae-466b-eecc-4c8a705af696"
      },
      "execution_count": null,
      "outputs": [
        {
          "output_type": "stream",
          "name": "stdout",
          "text": [
            "{1: ['Bread'], 2: ['Scandinavian', 'Scandinavian'], 3: ['Hot chocolate', 'Jam', 'Cookies'], 4: ['Muffin'], 5: ['Coffee', 'Pastry', 'Bread'], 6: ['Medialuna', 'Pastry', 'Muffin'], 7: ['Medialuna', 'Pastry', 'Coffee', 'Tea'], 8: ['Pastry', 'Bread'], 9: ['Bread', 'Muffin'], 10: ['Scandinavian', 'Medialuna'], 11: ['Bread', 'Medialuna', 'Bread'], 12: ['Jam', 'Coffee', 'Tartine', 'Pastry', 'Tea'], 13: ['Basket', 'Bread', 'Coffee'], 14: ['Bread', 'Medialuna', 'Pastry'], 15: ['Mineral water', 'Scandinavian'], 16: ['Bread', 'Medialuna', 'Coffee'], 17: ['Hot chocolate'], 18: ['Farm House'], 19: ['Farm House', 'Bread'], 20: ['Bread', 'Medialuna'], 21: ['Coffee', 'Coffee', 'Medialuna', 'Bread'], 22: ['Jam'], 23: ['Scandinavian', 'Muffin'], 24: ['Bread'], 25: ['Scandinavian'], 26: ['Fudge'], 27: ['Scandinavian'], 28: ['Coffee', 'Bread'], 29: ['Bread', 'Jam'], 30: ['Bread'], 31: ['Basket'], 32: ['Scandinavian', 'Muffin'], 33: ['Coffee'], 34: ['Coffee', 'Muffin'], 35: ['Muffin', 'Scandinavian'], 36: ['Tea', 'Bread'], 37: ['Coffee', 'Bread'], 38: ['Bread', 'Tea'], 39: ['Scandinavian'], 40: ['Juice', 'Tartine', 'Coffee', 'Muffin'], 41: ['Scandinavian'], 42: ['Bread', 'Tea'], 43: ['Scandinavian', 'Fudge'], 44: ['Coffee', 'Medialuna'], 45: ['Coffee', 'Hot chocolate', 'Medialuna'], 46: ['Coffee'], 47: [\"Ella's Kitchen Pouches\", 'Juice', 'Bread', 'Muffin', 'Jam'], 48: ['Coffee'], 49: ['Coffee', 'Coffee', 'Medialuna'], 50: ['Bread', 'Victorian Sponge'], 51: ['Bread'], 52: ['Scandinavian'], 54: ['Bread'], 55: ['Frittata', 'Coffee', 'Tea', 'Hearty & Seasonal'], 56: ['Coffee', 'Frittata'], 57: ['Scandinavian'], 58: ['Victorian Sponge', 'Hot chocolate', 'Tea', 'Soup'], 59: ['Tea'], 60: ['Cookies', 'Coffee', 'Juice', 'Coffee'], 61: ['Coffee'], 62: ['Pick and Mix Bowls', 'Hearty & Seasonal', 'Hearty & Seasonal', 'Coffee', 'Smoothies', 'Coffee'], 63: ['Coffee'], 64: ['Cake'], 65: ['Tartine', 'Mighty Protein', 'Tea', 'Coffee'], 66: ['Hearty & Seasonal', 'Frittata', 'Mineral water'], 67: ['Hearty & Seasonal', 'Mineral water', 'Muffin'], 68: ['Frittata', 'Coffee', 'Tea', 'Scandinavian', 'Chicken sand'], 69: ['Bread', 'Tea', 'Victorian Sponge'], 70: ['Fudge'], 71: ['Muffin'], 72: ['Coffee', 'Bread'], 73: ['Bread'], 74: ['Coffee', 'Bread'], 75: ['Jam', 'Frittata'], 76: ['Coffee'], 77: ['Scandinavian'], 78: ['Fudge'], 79: ['Fudge', 'Tea', 'Coffee', 'Muffin'], 80: ['Frittata', 'Bread', 'Coffee'], 81: ['Coffee', 'Cake'], 82: ['Tartine', 'Bread'], 83: ['Coffee', 'Bread'], 84: ['Bread'], 85: ['Coffee', 'Coffee', 'Pastry', 'Medialuna'], 86: ['Juice'], 87: ['Bread'], 88: ['Coffee', 'Coffee', 'Jam'], 89: ['Bread'], 90: ['Bread', 'Coffee'], 91: ['Tea'], 92: ['Coffee'], 93: ['Bread', 'Coke'], 94: ['Coffee', 'Coffee'], 95: ['Tea', 'Pastry', 'Farm House'], 96: ['Pastry', 'Pastry', 'Coffee', 'Juice'], 97: ['Coffee', 'Pastry', 'Juice'], 98: ['Farm House'], 99: ['Pastry', 'Pastry', 'Coffee', 'Bread'], 100: ['Bread'], 101: ['Coffee', 'Pastry'], 102: ['Farm House'], 103: ['Bread'], 104: ['Coffee', 'Coffee', 'Medialuna', 'Muffin', 'Coffee'], 105: ['Coffee', 'Tea', 'Cake'], 106: ['Coffee', 'Coffee', 'Pastry', 'Pastry'], 107: ['Coffee', 'Tea'], 108: ['Farm House', 'Muffin'], 109: ['Bread', 'Muffin', 'Pastry'], 110: ['Pastry'], 111: ['Coffee'], 112: ['Coffee'], 113: ['Coffee', 'Cake'], 114: ['Farm House'], 115: ['Bread'], 116: ['Coffee'], 117: ['Cookies', 'Cake', 'Coffee', 'My-5 Fruit Shoot'], 118: ['Cookies', 'Cookies', 'Tea', 'Pastry'], 119: ['Coffee', 'Coffee', 'Muffin'], 120: ['Farm House'], 121: ['Coffee', 'Bread'], 122: ['Cookies'], 123: ['Jam', 'Coffee', 'Coffee', 'Juice'], 124: ['Coffee', 'Soup'], 125: ['Tea'], 126: ['Coffee', 'Jam'], 127: ['Farm House'], 128: ['Tartine', 'Coffee', 'Tea'], 129: ['Coffee', 'Coffee', 'Cake'], 130: ['Coffee', 'Coffee', 'Muffin'], 131: ['Bread', 'Coffee'], 132: ['Tea', 'Juice', 'Pick and Mix Bowls', 'Cookies'], 133: ['Hearty & Seasonal', 'Soup'], 134: ['Hearty & Seasonal', 'Tea', 'Farm House'], 135: ['Bread'], 136: ['Tea', 'Soup'], 137: ['Farm House'], 138: ['Soup', 'Hearty & Seasonal', 'Coffee'], 139: ['Bread', 'Muffin', 'Hearty & Seasonal'], 140: ['Coffee', 'Coffee', 'Cookies']}\n"
          ]
        }
      ]
    },
    {
      "cell_type": "code",
      "source": [
        "def loadDataSet():\n",
        "  return dictTrans.values()"
      ],
      "metadata": {
        "id": "uz21HXHdG9ch"
      },
      "execution_count": null,
      "outputs": []
    },
    {
      "cell_type": "code",
      "source": [
        "dataSet = loadDataSet()\n",
        "dataSet"
      ],
      "metadata": {
        "id": "_YOLlc90HtAv"
      },
      "execution_count": null,
      "outputs": []
    },
    {
      "cell_type": "code",
      "source": [
        "def createC1(dataSet):\n",
        "    C1 = []\n",
        "    for transaction in dataSet:\n",
        "        for item in transaction:\n",
        "            if not [item] in C1:\n",
        "                C1.append([item])\n",
        "                \n",
        "    C1.sort()\n",
        "    return list(map(frozenset, C1))#use frozen set so we\n",
        "                            #can use it as a key in a dict    "
      ],
      "metadata": {
        "id": "WV2n60RTHf1d"
      },
      "execution_count": null,
      "outputs": []
    },
    {
      "cell_type": "code",
      "source": [
        "def scanD(D, Ck, minSupport):\n",
        "    ssCnt = {}\n",
        "    for tid in D:\n",
        "        for can in Ck:\n",
        "            if can.issubset(tid):\n",
        "                if not can in ssCnt: ssCnt[can]=1\n",
        "                else: ssCnt[can] += 1\n",
        "    numItems = float(len(D))\n",
        "    retList = []\n",
        "    supportData = {}\n",
        "    for key in ssCnt:\n",
        "        support = ssCnt[key]/numItems\n",
        "        if support >= minSupport:\n",
        "            retList.insert(0,key)\n",
        "        supportData[key] = support\n",
        "    return retList, supportData"
      ],
      "metadata": {
        "id": "pGs5MSyqHjsb"
      },
      "execution_count": null,
      "outputs": []
    },
    {
      "cell_type": "code",
      "source": [
        "D = list(map(set,dataSet))"
      ],
      "metadata": {
        "id": "c-rdZDuxHnuR"
      },
      "execution_count": null,
      "outputs": []
    },
    {
      "cell_type": "code",
      "source": [
        "def aprioriGen(Lk, k): #creates Ck\n",
        "    retList = []\n",
        "    lenLk = len(Lk)\n",
        "    for i in range(lenLk):\n",
        "        for j in range(i+1, lenLk): \n",
        "            L1 = list(Lk[i])[:k-2]; L2 = list(Lk[j])[:k-2]\n",
        "            L1.sort(); L2.sort()\n",
        "            if L1==L2: #if first k-2 elements are equal\n",
        "                retList.append(Lk[i] | Lk[j]) #set union\n",
        "    return retList"
      ],
      "metadata": {
        "id": "fG05raLHGd6k"
      },
      "execution_count": null,
      "outputs": []
    },
    {
      "cell_type": "code",
      "source": [
        "def apriori(dataSet, minSupport = 0.01):\n",
        "    C1 = createC1(dataSet)\n",
        "    D = list(map(set, dataSet))\n",
        "    L1, supportData = scanD(D, C1, minSupport)\n",
        "    L = [L1]\n",
        "    k = 2\n",
        "    while (len(L[k-2]) > 0):\n",
        "        Ck = aprioriGen(L[k-2], k)\n",
        "        Lk, supK = scanD(D, Ck, minSupport)#scan DB to get Lk\n",
        "        supportData.update(supK)\n",
        "        L.append(Lk)\n",
        "        k += 1\n",
        "    return L, supportData"
      ],
      "metadata": {
        "id": "WgpcRhJ_GhWp"
      },
      "execution_count": null,
      "outputs": []
    },
    {
      "cell_type": "code",
      "source": [
        "dataset = loadDataSet()\n",
        "L,suppData = apriori(dataset)"
      ],
      "metadata": {
        "id": "43XC-52BGuR5"
      },
      "execution_count": null,
      "outputs": []
    },
    {
      "cell_type": "code",
      "source": [
        "L[2]"
      ],
      "metadata": {
        "colab": {
          "base_uri": "https://localhost:8080/"
        },
        "id": "wjjrvNqQH3JA",
        "outputId": "dc5bebcd-fee6-45c2-ae75-4a45f3ddbbe3"
      },
      "execution_count": null,
      "outputs": [
        {
          "output_type": "execute_result",
          "data": {
            "text/plain": [
              "[frozenset({'Coffee', 'Juice', 'Pastry'}),\n",
              " frozenset({'Coffee', 'Frittata', 'Tea'}),\n",
              " frozenset({'Bread', 'Coffee', 'Medialuna'}),\n",
              " frozenset({'Coffee', 'Tartine', 'Tea'}),\n",
              " frozenset({'Coffee', 'Pastry', 'Tea'}),\n",
              " frozenset({'Coffee', 'Medialuna', 'Pastry'}),\n",
              " frozenset({'Bread', 'Coffee', 'Pastry'})]"
            ]
          },
          "metadata": {},
          "execution_count": 23
        }
      ]
    },
    {
      "cell_type": "code",
      "source": [
        "def generateRules(L, supportData, minConf=0.7):  #supportData is a dict coming from scanD\n",
        "    bigRuleList = []\n",
        "    for i in range(1, len(L)):#only get the sets with two or more items\n",
        "        for freqSet in L[i]:\n",
        "            H1 = [frozenset([item]) for item in freqSet]\n",
        "            if (i > 1):\n",
        "                rulesFromConseq(freqSet, H1, supportData, bigRuleList, minConf)\n",
        "            else:\n",
        "                calcConf(freqSet, H1, supportData, bigRuleList, minConf)\n",
        "    return bigRuleList     "
      ],
      "metadata": {
        "id": "JE0FyPHkTM_m"
      },
      "execution_count": null,
      "outputs": []
    },
    {
      "cell_type": "code",
      "source": [
        "def calcConf(freqSet, H, supportData, brl, minConf=0.7):\n",
        "    prunedH = [] #create new list to return\n",
        "    for conseq in H:\n",
        "        conf = supportData[freqSet]/supportData[freqSet-conseq] #calc confidence\n",
        "        if conf >= minConf: \n",
        "            print (freqSet-conseq,'-->',conseq,'conf:',conf)\n",
        "            brl.append((freqSet-conseq, conseq, conf))\n",
        "            prunedH.append(conseq)\n",
        "    return prunedH"
      ],
      "metadata": {
        "id": "PtRAC5QITW_7"
      },
      "execution_count": null,
      "outputs": []
    },
    {
      "cell_type": "code",
      "source": [
        "def rulesFromConseq(freqSet, H, supportData, brl, minConf=0.7):\n",
        "    m = len(H[0])\n",
        "    if (len(freqSet) > (m + 1)): #try further merging\n",
        "        Hmp1 = aprioriGen(H, m+1)#create Hm+1 new candidates\n",
        "        Hmp1 = calcConf(freqSet, Hmp1, supportData, brl, minConf)\n",
        "        if (len(Hmp1) > 1):    #need at least two sets to merge\n",
        "            rulesFromConseq(freqSet, Hmp1, supportData, brl, minConf)"
      ],
      "metadata": {
        "id": "EeoIrQ45TdbQ"
      },
      "execution_count": null,
      "outputs": []
    },
    {
      "cell_type": "code",
      "source": [
        "rules= generateRules(L,suppData, minConf=0.3)"
      ],
      "metadata": {
        "colab": {
          "base_uri": "https://localhost:8080/"
        },
        "id": "eWPj6he9ThEm",
        "outputId": "0c7c67ad-ed53-42ec-983a-a68915be1841"
      },
      "execution_count": null,
      "outputs": [
        {
          "output_type": "stream",
          "name": "stdout",
          "text": [
            "frozenset({'Soup'}) --> frozenset({'Hearty & Seasonal'}) conf: 0.4\n",
            "frozenset({'Soup'}) --> frozenset({'Coffee'}) conf: 0.4\n",
            "frozenset({'Cake'}) --> frozenset({'Coffee'}) conf: 0.8333333333333333\n",
            "frozenset({'Mineral water'}) --> frozenset({'Hearty & Seasonal'}) conf: 0.6666666666666666\n",
            "frozenset({'Cookies'}) --> frozenset({'Coffee'}) conf: 0.4285714285714286\n",
            "frozenset({'Victorian Sponge'}) --> frozenset({'Tea'}) conf: 0.6666666666666666\n",
            "frozenset({'Soup'}) --> frozenset({'Tea'}) conf: 0.4\n",
            "frozenset({'Frittata'}) --> frozenset({'Coffee'}) conf: 0.6666666666666666\n",
            "frozenset({'Frittata'}) --> frozenset({'Tea'}) conf: 0.3333333333333333\n",
            "frozenset({'Hearty & Seasonal'}) --> frozenset({'Coffee'}) conf: 0.375\n",
            "frozenset({'Frittata'}) --> frozenset({'Hearty & Seasonal'}) conf: 0.3333333333333333\n",
            "frozenset({'Victorian Sponge'}) --> frozenset({'Bread'}) conf: 0.6666666666666666\n",
            "frozenset({'Juice'}) --> frozenset({'Coffee'}) conf: 0.6249999999999999\n",
            "frozenset({'Muffin'}) --> frozenset({'Coffee'}) conf: 0.33333333333333337\n",
            "frozenset({'Jam'}) --> frozenset({'Coffee'}) conf: 0.4444444444444445\n",
            "frozenset({'Tartine'}) --> frozenset({'Coffee'}) conf: 0.8\n",
            "frozenset({'Tartine'}) --> frozenset({'Tea'}) conf: 0.6000000000000001\n",
            "frozenset({'Medialuna'}) --> frozenset({'Bread'}) conf: 0.3846153846153846\n",
            "frozenset({'Medialuna'}) --> frozenset({'Coffee'}) conf: 0.6153846153846154\n",
            "frozenset({'Tea'}) --> frozenset({'Coffee'}) conf: 0.4090909090909091\n",
            "frozenset({'Medialuna'}) --> frozenset({'Pastry'}) conf: 0.3076923076923077\n",
            "frozenset({'Bread'}) --> frozenset({'Coffee'}) conf: 0.3181818181818182\n",
            "frozenset({'Pastry'}) --> frozenset({'Bread'}) conf: 0.31249999999999994\n",
            "frozenset({'Pastry'}) --> frozenset({'Coffee'}) conf: 0.5625\n",
            "frozenset({'Frittata'}) --> frozenset({'Coffee', 'Tea'}) conf: 0.3333333333333333\n",
            "frozenset({'Tartine'}) --> frozenset({'Coffee', 'Tea'}) conf: 0.6000000000000001\n"
          ]
        }
      ]
    }
  ],
  "metadata": {
    "colab": {
      "collapsed_sections": [],
      "provenance": []
    },
    "kernelspec": {
      "display_name": "Python 3",
      "name": "python3"
    },
    "language_info": {
      "name": "python"
    }
  },
  "nbformat": 4,
  "nbformat_minor": 0
}