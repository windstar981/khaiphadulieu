{
  "nbformat": 4,
  "nbformat_minor": 0,
  "metadata": {
    "colab": {
      "provenance": [],
      "collapsed_sections": []
    },
    "kernelspec": {
      "name": "python3",
      "display_name": "Python 3"
    },
    "language_info": {
      "name": "python"
    }
  },
  "cells": [
    {
      "cell_type": "code",
      "source": [
        "import numpy as np \n",
        "import pandas as pd \n",
        "import matplotlib.pyplot as plt"
      ],
      "metadata": {
        "id": "d7MI0vEpiQWH"
      },
      "execution_count": null,
      "outputs": []
    },
    {
      "cell_type": "code",
      "source": [
        "#đọc dữ liệu \n",
        "dataset = pd.read_csv(\"/content/Mall_Customers.csv\", sep=\";\")\n",
        "dataset.head(10) "
      ],
      "metadata": {
        "colab": {
          "base_uri": "https://localhost:8080/",
          "height": 363
        },
        "id": "RdNpLSJBiehU",
        "outputId": "c0d78969-8575-44a6-e8b0-f037efaa1df1"
      },
      "execution_count": null,
      "outputs": [
        {
          "output_type": "execute_result",
          "data": {
            "text/plain": [
              "   CustomerID   Genre  Age  AnnualIncome  SpendingScore\n",
              "0           1    Male   19            15             39\n",
              "1           2    Male   21            15             81\n",
              "2           3  Female   20            16              6\n",
              "3           4  Female   23            16             77\n",
              "4           5  Female   31            17             40\n",
              "5           6  Female   22            17             76\n",
              "6           7  Female   35            18              6\n",
              "7           8  Female   23            18             94\n",
              "8           9    Male   64            19              3\n",
              "9          10  Female   30            19             72"
            ],
            "text/html": [
              "\n",
              "  <div id=\"df-0bf3d172-b10c-43fe-85fe-3a9a762e9617\">\n",
              "    <div class=\"colab-df-container\">\n",
              "      <div>\n",
              "<style scoped>\n",
              "    .dataframe tbody tr th:only-of-type {\n",
              "        vertical-align: middle;\n",
              "    }\n",
              "\n",
              "    .dataframe tbody tr th {\n",
              "        vertical-align: top;\n",
              "    }\n",
              "\n",
              "    .dataframe thead th {\n",
              "        text-align: right;\n",
              "    }\n",
              "</style>\n",
              "<table border=\"1\" class=\"dataframe\">\n",
              "  <thead>\n",
              "    <tr style=\"text-align: right;\">\n",
              "      <th></th>\n",
              "      <th>CustomerID</th>\n",
              "      <th>Genre</th>\n",
              "      <th>Age</th>\n",
              "      <th>AnnualIncome</th>\n",
              "      <th>SpendingScore</th>\n",
              "    </tr>\n",
              "  </thead>\n",
              "  <tbody>\n",
              "    <tr>\n",
              "      <th>0</th>\n",
              "      <td>1</td>\n",
              "      <td>Male</td>\n",
              "      <td>19</td>\n",
              "      <td>15</td>\n",
              "      <td>39</td>\n",
              "    </tr>\n",
              "    <tr>\n",
              "      <th>1</th>\n",
              "      <td>2</td>\n",
              "      <td>Male</td>\n",
              "      <td>21</td>\n",
              "      <td>15</td>\n",
              "      <td>81</td>\n",
              "    </tr>\n",
              "    <tr>\n",
              "      <th>2</th>\n",
              "      <td>3</td>\n",
              "      <td>Female</td>\n",
              "      <td>20</td>\n",
              "      <td>16</td>\n",
              "      <td>6</td>\n",
              "    </tr>\n",
              "    <tr>\n",
              "      <th>3</th>\n",
              "      <td>4</td>\n",
              "      <td>Female</td>\n",
              "      <td>23</td>\n",
              "      <td>16</td>\n",
              "      <td>77</td>\n",
              "    </tr>\n",
              "    <tr>\n",
              "      <th>4</th>\n",
              "      <td>5</td>\n",
              "      <td>Female</td>\n",
              "      <td>31</td>\n",
              "      <td>17</td>\n",
              "      <td>40</td>\n",
              "    </tr>\n",
              "    <tr>\n",
              "      <th>5</th>\n",
              "      <td>6</td>\n",
              "      <td>Female</td>\n",
              "      <td>22</td>\n",
              "      <td>17</td>\n",
              "      <td>76</td>\n",
              "    </tr>\n",
              "    <tr>\n",
              "      <th>6</th>\n",
              "      <td>7</td>\n",
              "      <td>Female</td>\n",
              "      <td>35</td>\n",
              "      <td>18</td>\n",
              "      <td>6</td>\n",
              "    </tr>\n",
              "    <tr>\n",
              "      <th>7</th>\n",
              "      <td>8</td>\n",
              "      <td>Female</td>\n",
              "      <td>23</td>\n",
              "      <td>18</td>\n",
              "      <td>94</td>\n",
              "    </tr>\n",
              "    <tr>\n",
              "      <th>8</th>\n",
              "      <td>9</td>\n",
              "      <td>Male</td>\n",
              "      <td>64</td>\n",
              "      <td>19</td>\n",
              "      <td>3</td>\n",
              "    </tr>\n",
              "    <tr>\n",
              "      <th>9</th>\n",
              "      <td>10</td>\n",
              "      <td>Female</td>\n",
              "      <td>30</td>\n",
              "      <td>19</td>\n",
              "      <td>72</td>\n",
              "    </tr>\n",
              "  </tbody>\n",
              "</table>\n",
              "</div>\n",
              "      <button class=\"colab-df-convert\" onclick=\"convertToInteractive('df-0bf3d172-b10c-43fe-85fe-3a9a762e9617')\"\n",
              "              title=\"Convert this dataframe to an interactive table.\"\n",
              "              style=\"display:none;\">\n",
              "        \n",
              "  <svg xmlns=\"http://www.w3.org/2000/svg\" height=\"24px\"viewBox=\"0 0 24 24\"\n",
              "       width=\"24px\">\n",
              "    <path d=\"M0 0h24v24H0V0z\" fill=\"none\"/>\n",
              "    <path d=\"M18.56 5.44l.94 2.06.94-2.06 2.06-.94-2.06-.94-.94-2.06-.94 2.06-2.06.94zm-11 1L8.5 8.5l.94-2.06 2.06-.94-2.06-.94L8.5 2.5l-.94 2.06-2.06.94zm10 10l.94 2.06.94-2.06 2.06-.94-2.06-.94-.94-2.06-.94 2.06-2.06.94z\"/><path d=\"M17.41 7.96l-1.37-1.37c-.4-.4-.92-.59-1.43-.59-.52 0-1.04.2-1.43.59L10.3 9.45l-7.72 7.72c-.78.78-.78 2.05 0 2.83L4 21.41c.39.39.9.59 1.41.59.51 0 1.02-.2 1.41-.59l7.78-7.78 2.81-2.81c.8-.78.8-2.07 0-2.86zM5.41 20L4 18.59l7.72-7.72 1.47 1.35L5.41 20z\"/>\n",
              "  </svg>\n",
              "      </button>\n",
              "      \n",
              "  <style>\n",
              "    .colab-df-container {\n",
              "      display:flex;\n",
              "      flex-wrap:wrap;\n",
              "      gap: 12px;\n",
              "    }\n",
              "\n",
              "    .colab-df-convert {\n",
              "      background-color: #E8F0FE;\n",
              "      border: none;\n",
              "      border-radius: 50%;\n",
              "      cursor: pointer;\n",
              "      display: none;\n",
              "      fill: #1967D2;\n",
              "      height: 32px;\n",
              "      padding: 0 0 0 0;\n",
              "      width: 32px;\n",
              "    }\n",
              "\n",
              "    .colab-df-convert:hover {\n",
              "      background-color: #E2EBFA;\n",
              "      box-shadow: 0px 1px 2px rgba(60, 64, 67, 0.3), 0px 1px 3px 1px rgba(60, 64, 67, 0.15);\n",
              "      fill: #174EA6;\n",
              "    }\n",
              "\n",
              "    [theme=dark] .colab-df-convert {\n",
              "      background-color: #3B4455;\n",
              "      fill: #D2E3FC;\n",
              "    }\n",
              "\n",
              "    [theme=dark] .colab-df-convert:hover {\n",
              "      background-color: #434B5C;\n",
              "      box-shadow: 0px 1px 3px 1px rgba(0, 0, 0, 0.15);\n",
              "      filter: drop-shadow(0px 1px 2px rgba(0, 0, 0, 0.3));\n",
              "      fill: #FFFFFF;\n",
              "    }\n",
              "  </style>\n",
              "\n",
              "      <script>\n",
              "        const buttonEl =\n",
              "          document.querySelector('#df-0bf3d172-b10c-43fe-85fe-3a9a762e9617 button.colab-df-convert');\n",
              "        buttonEl.style.display =\n",
              "          google.colab.kernel.accessAllowed ? 'block' : 'none';\n",
              "\n",
              "        async function convertToInteractive(key) {\n",
              "          const element = document.querySelector('#df-0bf3d172-b10c-43fe-85fe-3a9a762e9617');\n",
              "          const dataTable =\n",
              "            await google.colab.kernel.invokeFunction('convertToInteractive',\n",
              "                                                     [key], {});\n",
              "          if (!dataTable) return;\n",
              "\n",
              "          const docLinkHtml = 'Like what you see? Visit the ' +\n",
              "            '<a target=\"_blank\" href=https://colab.research.google.com/notebooks/data_table.ipynb>data table notebook</a>'\n",
              "            + ' to learn more about interactive tables.';\n",
              "          element.innerHTML = '';\n",
              "          dataTable['output_type'] = 'display_data';\n",
              "          await google.colab.output.renderOutput(dataTable, element);\n",
              "          const docLink = document.createElement('div');\n",
              "          docLink.innerHTML = docLinkHtml;\n",
              "          element.appendChild(docLink);\n",
              "        }\n",
              "      </script>\n",
              "    </div>\n",
              "  </div>\n",
              "  "
            ]
          },
          "metadata": {},
          "execution_count": 2
        }
      ]
    },
    {
      "cell_type": "code",
      "source": [
        "dataset = dataset.drop(['CustomerID'], axis=1)\n",
        "#chuẩn hoá lại dữ liệu cột giới tính nam gán = 1, nữ gán = 0\n",
        "for i in range(len(dataset['Genre'])):\n",
        "  if dataset['Genre'][i] == 'Male':\n",
        "    dataset['Genre'][i] = 1\n",
        "  else:\n",
        "     dataset['Genre'][i] = 0"
      ],
      "metadata": {
        "colab": {
          "base_uri": "https://localhost:8080/"
        },
        "id": "pQ8BTHH1iq6_",
        "outputId": "b0a8caf9-0445-4020-a65b-fdef0f53105f"
      },
      "execution_count": null,
      "outputs": [
        {
          "output_type": "stream",
          "name": "stderr",
          "text": [
            "/usr/local/lib/python3.7/dist-packages/ipykernel_launcher.py:5: SettingWithCopyWarning: \n",
            "A value is trying to be set on a copy of a slice from a DataFrame\n",
            "\n",
            "See the caveats in the documentation: https://pandas.pydata.org/pandas-docs/stable/user_guide/indexing.html#returning-a-view-versus-a-copy\n",
            "  \"\"\"\n",
            "/usr/local/lib/python3.7/dist-packages/ipykernel_launcher.py:7: SettingWithCopyWarning: \n",
            "A value is trying to be set on a copy of a slice from a DataFrame\n",
            "\n",
            "See the caveats in the documentation: https://pandas.pydata.org/pandas-docs/stable/user_guide/indexing.html#returning-a-view-versus-a-copy\n",
            "  import sys\n"
          ]
        }
      ]
    },
    {
      "cell_type": "code",
      "source": [
        "df = dataset \n",
        "df = df.dropna()\n",
        "print(df)"
      ],
      "metadata": {
        "colab": {
          "base_uri": "https://localhost:8080/"
        },
        "id": "CNQM0NP8Q50e",
        "outputId": "c75cc7c2-dee4-4504-8997-aebe56dd3f86"
      },
      "execution_count": null,
      "outputs": [
        {
          "output_type": "stream",
          "name": "stdout",
          "text": [
            "    Genre  Age  AnnualIncome  SpendingScore\n",
            "0       1   19            15             39\n",
            "1       1   21            15             81\n",
            "2       0   20            16              6\n",
            "3       0   23            16             77\n",
            "4       0   31            17             40\n",
            "..    ...  ...           ...            ...\n",
            "195     0   35           120             79\n",
            "196     0   45           126             28\n",
            "197     1   32           126             74\n",
            "198     1   32           137             18\n",
            "199     1   30           137             83\n",
            "\n",
            "[200 rows x 4 columns]\n"
          ]
        }
      ]
    },
    {
      "cell_type": "code",
      "source": [
        "#mô hình dự đoán SpendingScore khi biết AnnualIncome\n",
        "from sklearn import datasets, linear_model\n",
        "\n",
        "X_train_linear = df.loc[:,['AnnualIncome']].values\n",
        "Y_train_linear = df['SpendingScore'].values\n",
        "\n",
        "# fit the model by Linear Regression\n",
        "regr_SpendingScore = linear_model.LinearRegression(fit_intercept=False) # fit_intercept = False for calculating the bias\n",
        "regr_SpendingScore.fit(X_train_linear, Y_train_linear)\n",
        "\n",
        "# Compare two results\n",
        "print(regr_SpendingScore.coef_ )\n",
        "print(regr_SpendingScore.score(X_train_linear,Y_train_linear))\n",
        "print(f\"Phương trình hồi quy: [SpendingScore]={regr_SpendingScore.coef_ }x[AnnualIncome]+{regr_SpendingScore.score(X_train_linear,Y_train_linear)}\")"
      ],
      "metadata": {
        "colab": {
          "base_uri": "https://localhost:8080/"
        },
        "id": "ZGrTxLTvQ75A",
        "outputId": "f4fe3648-f36b-45d0-cc70-256a6b01535d"
      },
      "execution_count": null,
      "outputs": [
        {
          "output_type": "stream",
          "name": "stdout",
          "text": [
            "[0.69978525]\n",
            "-0.5846663238617607\n",
            "Phương trình hồi quy: [SpendingScore]=[0.69978525]x[AnnualIncome]+-0.5846663238617607\n"
          ]
        }
      ]
    },
    {
      "cell_type": "code",
      "source": [
        "##mô hình dự đoán AnnualIncome khi biết SpendingScore\n",
        "from sklearn import datasets, linear_model\n",
        "\n",
        "X_train_linear = df.loc[:,['SpendingScore']].values\n",
        "Y_train_linear = df['AnnualIncome'].values\n",
        "\n",
        "# fit the model by Linear Regression\n",
        "regr_AnnualIncome = linear_model.LinearRegression() \n",
        "regr_AnnualIncome.fit(X_train_linear, Y_train_linear)\n",
        "\n",
        "# Compare two results\n",
        "print(regr_AnnualIncome.coef_ )\n",
        "print(regr_AnnualIncome.score(X_train_linear,Y_train_linear))\n",
        "print(f\"Phương trình hồi quy: [AnnualIncome]={regr_AnnualIncome.coef_ }x[SpendingScore]+{regr_AnnualIncome.score(X_train_linear,Y_train_linear)}\")"
      ],
      "metadata": {
        "colab": {
          "base_uri": "https://localhost:8080/"
        },
        "id": "rMzSxg5oQ-bF",
        "outputId": "cdd86e38-3115-44d6-e20e-756d1b46d6ef"
      },
      "execution_count": null,
      "outputs": [
        {
          "output_type": "stream",
          "name": "stdout",
          "text": [
            "[0.01007204]\n",
            "9.806640037368641e-05\n",
            "Phương trình hồi quy: [AnnualIncome]=[0.01007204]x[SpendingScore]+9.806640037368641e-05\n"
          ]
        }
      ]
    },
    {
      "cell_type": "code",
      "source": [
        "meanAnnualIncome = dataset['AnnualIncome'].mean()\n",
        "meanSpendingScore = dataset['SpendingScore'].mean()\n",
        "meanAge = dataset['Age'].mean()"
      ],
      "metadata": {
        "id": "vpEeck15RHQa"
      },
      "execution_count": null,
      "outputs": []
    },
    {
      "cell_type": "code",
      "source": [
        "df['Genre'].value_counts()"
      ],
      "metadata": {
        "colab": {
          "base_uri": "https://localhost:8080/"
        },
        "id": "Dp8nB-ECRLyT",
        "outputId": "b5284ead-77ff-4ac0-e0ac-893b2af49414"
      },
      "execution_count": null,
      "outputs": [
        {
          "output_type": "execute_result",
          "data": {
            "text/plain": [
              "0    112\n",
              "1     88\n",
              "Name: Genre, dtype: int64"
            ]
          },
          "metadata": {},
          "execution_count": 8
        }
      ]
    },
    {
      "cell_type": "code",
      "source": [
        "#chuẩn hoá dữ liệu null\n",
        "for i in range(len(dataset)):\n",
        "  if str(dataset['AnnualIncome'][i]) == 'nan':\n",
        "    temp = dataset['SpendingScore'][i]\n",
        "    dataset['AnnualIncome'][i] = regr_AnnualIncome.predict([[temp]])[0]\n",
        "  if str(dataset['SpendingScore'][i]) == 'nan':\n",
        "    temp = dataset['AnnualIncome'][i]\n",
        "    dataset['SpendingScore'][i] = regr_SpendingScore.predict([[temp]])[0]\n",
        "  if (str(dataset['AnnualIncome'][i]) == 'nan') and (str(dataset['SpendingScore'][i]) == 'nan'):\n",
        "    dataset['AnnualIncome'][i] = meanAnnualIncome\n",
        "    dataset['SpendingScore'][i] = meanSpendingScore\n",
        "  if str(dataset['Age'][i]) == 'nan':\n",
        "    dataset['Age'][i] = meanAge\n",
        "  if str(dataset['Genre'][i]) == 'nan':\n",
        "    dataset['Genre'][i] = 0"
      ],
      "metadata": {
        "id": "Iz8e8zkZROcp"
      },
      "execution_count": null,
      "outputs": []
    },
    {
      "cell_type": "code",
      "source": [
        "X= dataset.values\n",
        "X = np.array(X, dtype=np.float64)"
      ],
      "metadata": {
        "id": "MnU4ay8gizW_"
      },
      "execution_count": null,
      "outputs": []
    },
    {
      "cell_type": "code",
      "source": [
        "X"
      ],
      "metadata": {
        "id": "M3R71b5KSZVQ"
      },
      "execution_count": null,
      "outputs": []
    },
    {
      "cell_type": "code",
      "source": [
        "class KMeans:\n",
        "    def __init__(self, n_clusters=5):\n",
        "        self.K = n_clusters\n",
        "        \n",
        "    def fit(self, X):\n",
        "        self.centroids = X[np.random.choice(len(X), self.K, replace=False)]\n",
        "        self.intial_centroids = self.centroids\n",
        "        self.prev_label,  self.labels = None, np.zeros(len(X))\n",
        "        while not np.all(self.labels == self.prev_label) :\n",
        "            self.prev_label = self.labels\n",
        "            self.labels = self.predict(X)\n",
        "            self.update_centroid(X)\n",
        "        return self\n",
        "        \n",
        "    def predict(self, X):\n",
        "        return np.apply_along_axis(self.compute_label, 1, X)\n",
        "\n",
        "    def compute_label(self, x):\n",
        "        return np.argmin(np.sqrt((np.sum(((self.centroids - x)**2), axis=1))))\n",
        "\n",
        "    def update_centroid(self, X):\n",
        "        self.centroids = np.array([np.mean(X[self.labels == k], axis=0)  for k in range(self.K)])"
      ],
      "metadata": {
        "id": "ojIzMLjSuVX-"
      },
      "execution_count": null,
      "outputs": []
    },
    {
      "cell_type": "code",
      "source": [
        "kmeans = KMeans(n_clusters=5).fit(X)"
      ],
      "metadata": {
        "id": "4ksgSNO_jFRr"
      },
      "execution_count": null,
      "outputs": []
    },
    {
      "cell_type": "code",
      "source": [
        "kmeans.labels"
      ],
      "metadata": {
        "colab": {
          "base_uri": "https://localhost:8080/"
        },
        "id": "rwWY4rT2pYez",
        "outputId": "aa7a09a0-8418-4405-805a-911f1661361d"
      },
      "execution_count": null,
      "outputs": [
        {
          "output_type": "execute_result",
          "data": {
            "text/plain": [
              "array([4, 4, 3, 4, 4, 4, 3, 4, 3, 4, 3, 4, 3, 4, 3, 4, 3, 4, 3, 4, 3, 4,\n",
              "       3, 4, 3, 4, 3, 4, 3, 4, 3, 4, 3, 4, 3, 4, 3, 4, 3, 4, 3, 4, 3, 4,\n",
              "       3, 4, 3, 4, 4, 4, 3, 4, 4, 3, 3, 3, 3, 3, 4, 3, 3, 4, 3, 3, 3, 4,\n",
              "       3, 3, 4, 4, 3, 3, 3, 3, 3, 4, 3, 3, 4, 3, 3, 4, 3, 3, 4, 3, 3, 4,\n",
              "       4, 3, 3, 4, 3, 3, 3, 4, 3, 4, 3, 4, 4, 3, 3, 4, 3, 4, 3, 3, 3, 3,\n",
              "       3, 4, 3, 4, 4, 4, 3, 3, 3, 3, 4, 3, 2, 2, 1, 2, 1, 2, 1, 2, 1, 2,\n",
              "       1, 2, 1, 2, 1, 2, 1, 2, 1, 2, 1, 2, 1, 2, 1, 2, 1, 2, 1, 2, 1, 2,\n",
              "       1, 2, 1, 2, 1, 2, 1, 2, 1, 2, 1, 2, 1, 2, 1, 2, 1, 2, 1, 2, 1, 2,\n",
              "       1, 2, 1, 2, 0, 2, 0, 2, 0, 2, 0, 2, 0, 2, 0, 2, 0, 2, 0, 2, 0, 2,\n",
              "       0, 2])"
            ]
          },
          "metadata": {},
          "execution_count": 13
        }
      ]
    },
    {
      "cell_type": "code",
      "source": [
        "kmeans.centroids"
      ],
      "metadata": {
        "colab": {
          "base_uri": "https://localhost:8080/"
        },
        "id": "Xrdkt5mGi5GG",
        "outputId": "7ff07326-b033-40b0-e7e9-4a14daa0d60e"
      },
      "execution_count": null,
      "outputs": [
        {
          "output_type": "execute_result",
          "data": {
            "text/plain": [
              "array([[  0.3       ,  41.        , 109.7       ,  22.        ],\n",
              "       [  0.60714286,  40.17857143,  78.89285714,  17.42857143],\n",
              "       [  0.45      ,  32.875     ,  86.1       ,  81.525     ],\n",
              "       [  0.4057971 ,  52.05797101,  46.42028986,  39.88405797],\n",
              "       [  0.41509434,  25.05660377,  40.73584906,  62.62264151]])"
            ]
          },
          "metadata": {},
          "execution_count": 14
        }
      ]
    },
    {
      "cell_type": "code",
      "source": [
        "len(kmeans.centroids)"
      ],
      "metadata": {
        "id": "mWWxWWLhStJn",
        "outputId": "e79856a9-472d-4e69-af2e-d4f654fe3ac9",
        "colab": {
          "base_uri": "https://localhost:8080/"
        }
      },
      "execution_count": null,
      "outputs": [
        {
          "output_type": "execute_result",
          "data": {
            "text/plain": [
              "5"
            ]
          },
          "metadata": {},
          "execution_count": 89
        }
      ]
    },
    {
      "cell_type": "code",
      "source": [
        "#biểu diễn biểu đồ scatter 2 giá trị thu nhập hàng năm và điểm tiêu chi\n",
        "plt.scatter(X[kmeans.labels == 0, 2], X[kmeans.labels == 0, 3], s = 100, c = 'red', label = 'Cluster 1')\n",
        "plt.scatter(X[kmeans.labels == 1, 2], X[kmeans.labels == 1, 3], s = 100, c = 'blue', label = 'Cluster 2')\n",
        "plt.scatter(X[kmeans.labels == 2, 2], X[kmeans.labels == 2, 3], s = 100, c = 'green', label = 'Cluster 3')\n",
        "plt.scatter(X[kmeans.labels == 3, 2], X[kmeans.labels == 3, 3], s = 100, c = 'cyan', label = 'Cluster 4')\n",
        "plt.scatter(X[kmeans.labels == 4, 2], X[kmeans.labels == 4, 3], s = 100, c = 'magenta', label = 'Cluster 5')\n",
        "plt.scatter(X[kmeans.labels == 5, 2], X[kmeans.labels == 5, 3], s = 100, c = 'magenta', label = 'Cluster 5')\n",
        "plt.scatter(kmeans.centroids[:, 2], kmeans.centroids[:, 3], s = 300, c = 'yellow', label = 'Centroids')\n",
        "plt.title('Clusters of customers')\n",
        "plt.xlabel('Annual Income (k$)')\n",
        "plt.ylabel('Spending Score (1-100)')\n",
        "plt.legend()\n",
        "plt.show()"
      ],
      "metadata": {
        "colab": {
          "base_uri": "https://localhost:8080/",
          "height": 295
        },
        "id": "qePoCaQopTIj",
        "outputId": "71a1020d-dc34-4611-ece8-4ad19152f7c8"
      },
      "execution_count": null,
      "outputs": [
        {
          "output_type": "display_data",
          "data": {
            "text/plain": [
              "<Figure size 432x288 with 1 Axes>"
            ],
            "image/png": "[encoded data removed]"
          },
          "metadata": {
            "needs_background": "light"
          }
        }
      ]
    }
  ]
}